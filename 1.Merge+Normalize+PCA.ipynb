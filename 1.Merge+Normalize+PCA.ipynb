{
 "cells": [
  {
   "cell_type": "markdown",
   "metadata": {},
   "source": [
    "# Get Libraries and Create Mock Data"
   ]
  },
  {
   "cell_type": "code",
   "execution_count": 1,
   "metadata": {},
   "outputs": [
    {
     "name": "stderr",
     "output_type": "stream",
     "text": [
      "\n",
      "Attaching package: 'dplyr'\n",
      "\n",
      "\n",
      "The following objects are masked from 'package:stats':\n",
      "\n",
      "    filter, lag\n",
      "\n",
      "\n",
      "The following objects are masked from 'package:base':\n",
      "\n",
      "    intersect, setdiff, setequal, union\n",
      "\n",
      "\n"
     ]
    }
   ],
   "source": [
    "library(dplyr)\n",
    "library(tidyr)"
   ]
  },
  {
   "cell_type": "markdown",
   "metadata": {},
   "source": [
    "## TEMPORARY: Create Data"
   ]
  },
  {
   "cell_type": "code",
   "execution_count": 2,
   "metadata": {},
   "outputs": [],
   "source": [
    "id <- c(1:1000)\n",
    "a <- rnorm(1000, mean=10)\n",
    "b <- rnorm(1000, mean=10)\n",
    "c <- rnorm(1000, mean=10) + c(rep(0, 250), rnorm(250, mean=0.15, sd=0.025), rnorm(250, mean=0.4, sd=0.075), rnorm(250, mean=0.2, sd=0.1))\n",
    "d <- rnorm(1000, mean=10) + c(rep(0, 250), rnorm(250, mean=-0.25, sd=0.025), rnorm(250, mean=-0.1, sd=0.3), runif(250, min=0, max=0.2))\n",
    "f <- rnorm(1000, mean=10) + c(rep(0, 250), rnorm(250, mean=-0.02, sd=0.025), rnorm(250, mean=-0.03, sd=0.1), rnorm(250, mean=0.08, sd=0.2))\n",
    "g <- rnorm(1000, mean=10) + c(rep(0, 250), rnorm(250, mean=2, sd=0.025), rnorm(250, mean=0.8, sd=0.3), runif(250, min=-0.9, max=0.2))\n",
    "\n",
    "\n",
    "batch <- factor(c(rep(1, 250), rep(4, 250), rep(3, 250), rep(4, 250)))\n",
    "data <- matrix(data=c(a, b, c, d, f, g), ncol=6, byrow=FALSE)"
   ]
  },
  {
   "cell_type": "markdown",
   "metadata": {},
   "source": [
    "# Normalize and Scale Data + PCA"
   ]
  },
  {
   "cell_type": "code",
   "execution_count": 3,
   "metadata": {},
   "outputs": [],
   "source": [
    "data <- log10(10000 * data)\n",
    "data <- scale(drop_na(data.frame(data)))"
   ]
  },
  {
   "cell_type": "code",
   "execution_count": 4,
   "metadata": {},
   "outputs": [],
   "source": [
    "data_pcs <- prcomp(data)$x"
   ]
  },
  {
   "cell_type": "markdown",
   "metadata": {},
   "source": [
    "# Perform Harmony"
   ]
  },
  {
   "cell_type": "code",
   "execution_count": 5,
   "metadata": {},
   "outputs": [
    {
     "name": "stderr",
     "output_type": "stream",
     "text": [
      "Harmony 1/10\n",
      "\n",
      "Harmony 2/10\n",
      "\n",
      "Harmony 3/10\n",
      "\n",
      "Harmony 4/10\n",
      "\n",
      "Harmony 5/10\n",
      "\n",
      "Harmony 6/10\n",
      "\n",
      "Harmony converged after 6 iterations\n",
      "\n"
     ]
    }
   ],
   "source": [
    "data_harmony <- harmony::HarmonyMatrix(data_pcs, meta_data=batch, do_pca=FALSE)"
   ]
  },
  {
   "cell_type": "markdown",
   "metadata": {},
   "source": [
    "# Output Harmony Adjusted and Uncorrected Files"
   ]
  },
  {
   "cell_type": "code",
   "execution_count": 10,
   "metadata": {},
   "outputs": [
    {
     "data": {
      "text/html": [
       "0"
      ],
      "text/latex": [
       "0"
      ],
      "text/markdown": [
       "0"
      ],
      "text/plain": [
       "[1] 0"
      ]
     },
     "metadata": {},
     "output_type": "display_data"
    },
    {
     "data": {
      "text/html": [
       "0"
      ],
      "text/latex": [
       "0"
      ],
      "text/markdown": [
       "0"
      ],
      "text/plain": [
       "[1] 0"
      ]
     },
     "metadata": {},
     "output_type": "display_data"
    },
    {
     "data": {
      "text/html": [
       "0"
      ],
      "text/latex": [
       "0"
      ],
      "text/markdown": [
       "0"
      ],
      "text/plain": [
       "[1] 0"
      ]
     },
     "metadata": {},
     "output_type": "display_data"
    },
    {
     "data": {
      "text/html": [
       "0"
      ],
      "text/latex": [
       "0"
      ],
      "text/markdown": [
       "0"
      ],
      "text/plain": [
       "[1] 0"
      ]
     },
     "metadata": {},
     "output_type": "display_data"
    }
   ],
   "source": [
    "uncorrected_dir <- \".\\\\output\\\\data\\\\uncorrected\"\n",
    "harmony_dir <- \".\\\\output\\\\data\\\\harmony\"\n",
    "liger_dir <- \".\\\\output\\\\data\\\\liger\"\n",
    "combat_dir <- \".\\\\output\\\\data\\\\combat\"\n",
    "\n",
    "system(paste(\"mkdir -p \", uncorrected_dir, sep=\"\"))\n",
    "system(paste(\"mkdir -p \", harmony_dir, sep=\"\"))\n",
    "system(paste(\"mkdir -p \", liger_dir, sep=\"\"))\n",
    "system(paste(\"mkdir -p \", combat_dir, sep=\"\"))\n",
    "\n",
    "write.csv(data_pcs, paste(uncorrected_dir, \"\\\\data_\", last(last(strsplit(uncorrected_dir, \"\\\\\\\\|[^[:print:]]\"))), \".csv\", sep=\"\"), row.names = FALSE)\n",
    "write.csv(data_harmony, paste(harmony_dir, \"\\\\data_\", last(last(strsplit(harmony_dir, \"\\\\\\\\|[^[:print:]]\"))), \".csv\", sep=\"\"), row.names = FALSE)"
   ]
  },
  {
   "cell_type": "markdown",
   "metadata": {},
   "source": [
    "# Run kBET and print outputs"
   ]
  },
  {
   "cell_type": "code",
   "execution_count": 11,
   "metadata": {},
   "outputs": [
    {
     "name": "stderr",
     "output_type": "stream",
     "text": [
      "Warning message in if (class(knn) == \"list\") {:\n",
      "\"the condition has length > 1 and only the first element will be used\"\n",
      "Warning message in if (class(knn) == \"list\") {:\n",
      "\"the condition has length > 1 and only the first element will be used\"\n",
      "Warning message in if (class(knn) == \"list\") {:\n",
      "\"the condition has length > 1 and only the first element will be used\"\n",
      "Warning message in if (class(knn) == \"list\") {:\n",
      "\"the condition has length > 1 and only the first element will be used\"\n",
      "Warning message in if (class(knn) == \"list\") {:\n",
      "\"the condition has length > 1 and only the first element will be used\"\n",
      "Warning message in if (class(knn) == \"list\") {:\n",
      "\"the condition has length > 1 and only the first element will be used\"\n",
      "Warning message in if (class(knn) == \"list\") {:\n",
      "\"the condition has length > 1 and only the first element will be used\"\n",
      "Warning message in if (class(knn) == \"list\") {:\n",
      "\"the condition has length > 1 and only the first element will be used\"\n",
      "Warning message in if (class(knn) == \"list\") {:\n",
      "\"the condition has length > 1 and only the first element will be used\"\n",
      "Warning message in if (class(knn) == \"list\") {:\n",
      "\"the condition has length > 1 and only the first element will be used\"\n",
      "Warning message in if (class(knn) == \"list\") {:\n",
      "\"the condition has length > 1 and only the first element will be used\"\n",
      "Warning message in if (class(knn) == \"list\") {:\n",
      "\"the condition has length > 1 and only the first element will be used\"\n",
      "Warning message in if (class(knn) == \"list\") {:\n",
      "\"the condition has length > 1 and only the first element will be used\"\n"
     ]
    },
    {
     "data": {
      "image/png": "[encoded data removed]",
      "text/plain": [
       "plot without title"
      ]
     },
     "metadata": {
      "image/png": {
       "height": 420,
       "width": 420
      }
     },
     "output_type": "display_data"
    },
    {
     "data": {
      "image/png": "[encoded data removed]",
      "text/plain": [
       "plot without title"
      ]
     },
     "metadata": {
      "image/png": {
       "height": 420,
       "width": 420
      }
     },
     "output_type": "display_data"
    }
   ],
   "source": [
    "kBET.uncorrected <- kBET::kBET(data_pcs, batch, do.pca=FALSE)$summary\n",
    "kBET.harmony <- kBET::kBET(data_harmony, batch, do.pca=FALSE)$summary"
   ]
  },
  {
   "cell_type": "code",
   "execution_count": 12,
   "metadata": {},
   "outputs": [
    {
     "data": {
      "text/html": [
       "0"
      ],
      "text/latex": [
       "0"
      ],
      "text/markdown": [
       "0"
      ],
      "text/plain": [
       "[1] 0"
      ]
     },
     "metadata": {},
     "output_type": "display_data"
    },
    {
     "data": {
      "text/html": [
       "0"
      ],
      "text/latex": [
       "0"
      ],
      "text/markdown": [
       "0"
      ],
      "text/plain": [
       "[1] 0"
      ]
     },
     "metadata": {},
     "output_type": "display_data"
    },
    {
     "data": {
      "text/html": [
       "0"
      ],
      "text/latex": [
       "0"
      ],
      "text/markdown": [
       "0"
      ],
      "text/plain": [
       "[1] 0"
      ]
     },
     "metadata": {},
     "output_type": "display_data"
    },
    {
     "data": {
      "text/html": [
       "0"
      ],
      "text/latex": [
       "0"
      ],
      "text/markdown": [
       "0"
      ],
      "text/plain": [
       "[1] 0"
      ]
     },
     "metadata": {},
     "output_type": "display_data"
    }
   ],
   "source": [
    "uncorrected_dir <- \".\\\\output\\\\kBET\\\\uncorrected\"\n",
    "harmony_dir <- \".\\\\output\\\\kBET\\\\harmony\"\n",
    "liger_dir <- \".\\\\output\\\\kBET\\\\liger\"\n",
    "combat_dir <- \".\\\\output\\\\kBET\\\\combat\"\n",
    "\n",
    "system(paste(\"mkdir -p \", uncorrected_dir, sep=\"\"))\n",
    "system(paste(\"mkdir -p \", harmony_dir, sep=\"\"))\n",
    "system(paste(\"mkdir -p \", liger_dir, sep=\"\"))\n",
    "system(paste(\"mkdir -p \", combat_dir, sep=\"\"))\n",
    "\n",
    "write.csv(kBET.uncorrected, paste(uncorrected_dir, \"\\\\kBET_\", last(last(strsplit(uncorrected_dir, \"\\\\\\\\|[^[:print:]]\"))), \".csv\", sep=\"\"), row.names = TRUE)\n",
    "write.csv(kBET.harmony, paste(harmony_dir, \"\\\\kBET_\", last(last(strsplit(harmony_dir, \"\\\\\\\\|[^[:print:]]\"))), \".csv\", sep=\"\"), row.names = TRUE)"
   ]
  },
  {
   "cell_type": "markdown",
   "metadata": {},
   "source": [
    "# Calculate LISI and print outputs"
   ]
  },
  {
   "cell_type": "code",
   "execution_count": 14,
   "metadata": {},
   "outputs": [],
   "source": [
    "uncorrected_lisi <- lisi::compute_lisi(data_pcs, as.data.frame(batch), \"batch\")#This part is not modular!\n",
    "harmony_lisi <- lisi::compute_lisi(data_harmony, as.data.frame(batch), \"batch\")#This part is not modular!\n",
    "\n",
    "LISI.uncorrected = c(summary(uncorrected_lisi$batch))\n",
    "LISI.uncorrected = as.data.frame(LISI.uncorrected)\n",
    "\n",
    "LISI.harmony = c(summary(uncorrected_lisi$batch))\n",
    "LISI.harmony = as.data.frame(LISI.harmony)"
   ]
  },
  {
   "cell_type": "code",
   "execution_count": 15,
   "metadata": {},
   "outputs": [
    {
     "data": {
      "text/html": [
       "0"
      ],
      "text/latex": [
       "0"
      ],
      "text/markdown": [
       "0"
      ],
      "text/plain": [
       "[1] 0"
      ]
     },
     "metadata": {},
     "output_type": "display_data"
    },
    {
     "data": {
      "text/html": [
       "0"
      ],
      "text/latex": [
       "0"
      ],
      "text/markdown": [
       "0"
      ],
      "text/plain": [
       "[1] 0"
      ]
     },
     "metadata": {},
     "output_type": "display_data"
    },
    {
     "data": {
      "text/html": [
       "0"
      ],
      "text/latex": [
       "0"
      ],
      "text/markdown": [
       "0"
      ],
      "text/plain": [
       "[1] 0"
      ]
     },
     "metadata": {},
     "output_type": "display_data"
    },
    {
     "data": {
      "text/html": [
       "0"
      ],
      "text/latex": [
       "0"
      ],
      "text/markdown": [
       "0"
      ],
      "text/plain": [
       "[1] 0"
      ]
     },
     "metadata": {},
     "output_type": "display_data"
    }
   ],
   "source": [
    "uncorrected_dir <- \".\\\\output\\\\lisi\\\\uncorrected\"\n",
    "harmony_dir <- \".\\\\output\\\\lisi\\\\harmony\"\n",
    "liger_dir <- \".\\\\output\\\\lisi\\\\liger\"\n",
    "combat_dir <- \".\\\\output\\\\lisi\\\\combat\"\n",
    "\n",
    "system(paste(\"mkdir -p \", uncorrected_dir, sep=\"\"))\n",
    "system(paste(\"mkdir -p \", harmony_dir, sep=\"\"))\n",
    "system(paste(\"mkdir -p \", liger_dir, sep=\"\"))\n",
    "system(paste(\"mkdir -p \", combat_dir, sep=\"\"))\n",
    "\n",
    "write.csv(LISI.uncorrected, paste(uncorrected_dir, \"\\\\LISI_\", last(last(strsplit(uncorrected_dir, \"\\\\\\\\|[^[:print:]]\"))), \".csv\", sep=\"\"), row.names = TRUE)\n",
    "write.csv(LISI.harmony, paste(harmony_dir, \"\\\\LISI_\", last(last(strsplit(harmony_dir, \"\\\\\\\\|[^[:print:]]\"))), \".csv\", sep=\"\"), row.names = TRUE)"
   ]
  },
  {
   "cell_type": "code",
   "execution_count": 16,
   "metadata": {},
   "outputs": [
    {
     "data": {
      "text/html": [
       "<table class=\"dataframe\">\n",
       "<caption>A data.frame: 6 × 1</caption>\n",
       "<thead>\n",
       "\t<tr><th></th><th scope=col>LISI.harmony</th></tr>\n",
       "\t<tr><th></th><th scope=col>&lt;dbl&gt;</th></tr>\n",
       "</thead>\n",
       "<tbody>\n",
       "\t<tr><th scope=row>Min.</th><td>1.183857</td></tr>\n",
       "\t<tr><th scope=row>1st Qu.</th><td>2.083413</td></tr>\n",
       "\t<tr><th scope=row>Median</th><td>2.376044</td></tr>\n",
       "\t<tr><th scope=row>Mean</th><td>2.356758</td></tr>\n",
       "\t<tr><th scope=row>3rd Qu.</th><td>2.687097</td></tr>\n",
       "\t<tr><th scope=row>Max.</th><td>2.998784</td></tr>\n",
       "</tbody>\n",
       "</table>\n"
      ],
      "text/latex": [
       "A data.frame: 6 × 1\n",
       "\\begin{tabular}{r|l}\n",
       "  & LISI.harmony\\\\\n",
       "  & <dbl>\\\\\n",
       "\\hline\n",
       "\tMin. & 1.183857\\\\\n",
       "\t1st Qu. & 2.083413\\\\\n",
       "\tMedian & 2.376044\\\\\n",
       "\tMean & 2.356758\\\\\n",
       "\t3rd Qu. & 2.687097\\\\\n",
       "\tMax. & 2.998784\\\\\n",
       "\\end{tabular}\n"
      ],
      "text/markdown": [
       "\n",
       "A data.frame: 6 × 1\n",
       "\n",
       "| <!--/--> | LISI.harmony &lt;dbl&gt; |\n",
       "|---|---|\n",
       "| Min. | 1.183857 |\n",
       "| 1st Qu. | 2.083413 |\n",
       "| Median | 2.376044 |\n",
       "| Mean | 2.356758 |\n",
       "| 3rd Qu. | 2.687097 |\n",
       "| Max. | 2.998784 |\n",
       "\n"
      ],
      "text/plain": [
       "        LISI.harmony\n",
       "Min.    1.183857    \n",
       "1st Qu. 2.083413    \n",
       "Median  2.376044    \n",
       "Mean    2.356758    \n",
       "3rd Qu. 2.687097    \n",
       "Max.    2.998784    "
      ]
     },
     "metadata": {},
     "output_type": "display_data"
    }
   ],
   "source": [
    "LISI.harmony"
   ]
  }
 ],
 "metadata": {
  "kernelspec": {
   "display_name": "R",
   "language": "R",
   "name": "ir"
  },
  "language_info": {
   "codemirror_mode": "r",
   "file_extension": ".r",
   "mimetype": "text/x-r-source",
   "name": "R",
   "pygments_lexer": "r",
   "version": "4.1.0"
  }
 },
 "nbformat": 4,
 "nbformat_minor": 4
}
