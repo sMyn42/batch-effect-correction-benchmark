{
 "cells": [
  {
   "cell_type": "markdown",
   "metadata": {},
   "source": [
    "# User Vars - Change Before Running"
   ]
  },
  {
   "cell_type": "code",
   "execution_count": 1,
   "metadata": {},
   "outputs": [],
   "source": [
    "num_PCS = 6"
   ]
  },
  {
   "cell_type": "markdown",
   "metadata": {},
   "source": [
    "# Get Libraries and Create Mock Data"
   ]
  },
  {
   "cell_type": "code",
   "execution_count": 2,
   "metadata": {},
   "outputs": [
    {
     "name": "stderr",
     "output_type": "stream",
     "text": [
      "\n",
      "Attaching package: 'dplyr'\n",
      "\n",
      "\n",
      "The following objects are masked from 'package:stats':\n",
      "\n",
      "    filter, lag\n",
      "\n",
      "\n",
      "The following objects are masked from 'package:base':\n",
      "\n",
      "    intersect, setdiff, setequal, union\n",
      "\n",
      "\n"
     ]
    }
   ],
   "source": [
    "library(dplyr)\n",
    "library(tidyr)"
   ]
  },
  {
   "cell_type": "markdown",
   "metadata": {},
   "source": [
    "## TEMPORARY: Create Data"
   ]
  },
  {
   "cell_type": "code",
   "execution_count": 17,
   "metadata": {},
   "outputs": [],
   "source": [
    "id <- c(1:1000)\n",
    "a <- rnorm(1000, mean=10)\n",
    "b <- rnorm(1000, mean=10)\n",
    "c <- rnorm(1000, mean=10) + c(rep(0, 250), rnorm(250, mean=0.15, sd=0.025), rnorm(250, mean=0.4, sd=0.075), rnorm(250, mean=0.2, sd=0.1))\n",
    "d <- rnorm(1000, mean=10) + c(rep(0, 250), rnorm(250, mean=-0.25, sd=0.025), rnorm(250, mean=-0.1, sd=0.3), runif(250, min=0, max=0.2))\n",
    "f <- rnorm(1000, mean=10) + c(rep(0, 250), rnorm(250, mean=-0.02, sd=0.025), rnorm(250, mean=-0.03, sd=0.1), rnorm(250, mean=0.08, sd=0.2))\n",
    "g <- rnorm(1000, mean=10) + c(rep(0, 250), rnorm(250, mean=2, sd=0.025), rnorm(250, mean=0.8, sd=0.3), runif(250, min=-0.9, max=0.2))\n",
    "\n",
    "\n",
    "batch <- factor(c(rep(1, 250), rep(2, 250), rep(3, 250), rep(4, 250)))\n",
    "data_raw <- matrix(data=c(a, b, c, d, f, g), ncol=6, byrow=FALSE)"
   ]
  },
  {
   "cell_type": "markdown",
   "metadata": {},
   "source": [
    "# Normalize and Scale Data + PCA"
   ]
  },
  {
   "cell_type": "code",
   "execution_count": 18,
   "metadata": {},
   "outputs": [],
   "source": [
    "data <- log10(10000 * data_raw)\n",
    "\n",
    "####\n",
    "data_raw = as.data.frame(data_raw)\n",
    "data_raw <- cbind(data_raw, batch)\n",
    "####\n",
    "\n",
    "data <- scale(drop_na(data.frame(data)))"
   ]
  },
  {
   "cell_type": "code",
   "execution_count": 19,
   "metadata": {},
   "outputs": [],
   "source": [
    "data_pcs <- prcomp(data, rank.=num_PCS)$x\n",
    "data_pcs <- cbind(data_pcs, batch)"
   ]
  },
  {
   "cell_type": "markdown",
   "metadata": {},
   "source": [
    "# Output Uncorrected PCs"
   ]
  },
  {
   "cell_type": "code",
   "execution_count": 20,
   "metadata": {},
   "outputs": [
    {
     "data": {
      "text/html": [
       "0"
      ],
      "text/latex": [
       "0"
      ],
      "text/markdown": [
       "0"
      ],
      "text/plain": [
       "[1] 0"
      ]
     },
     "metadata": {},
     "output_type": "display_data"
    },
    {
     "data": {
      "text/html": [
       "0"
      ],
      "text/latex": [
       "0"
      ],
      "text/markdown": [
       "0"
      ],
      "text/plain": [
       "[1] 0"
      ]
     },
     "metadata": {},
     "output_type": "display_data"
    }
   ],
   "source": [
    "uncorrected_dir <- \".\\\\output\\\\data\\\\uncorrected\"\n",
    "raw_dir <- \".\\\\output\\\\data\\\\raw\"\n",
    "\n",
    "system(paste(\"mkdir -p \", uncorrected_dir, sep=\"\"))\n",
    "system(paste(\"mkdir -p \", raw_dir, sep=\"\"))\n",
    "\n",
    "write.csv(data_pcs, paste(uncorrected_dir, \"\\\\data_\", last(last(strsplit(uncorrected_dir, \"\\\\\\\\|[^[:print:]]\"))), \".csv\", sep=\"\"), row.names = FALSE)\n",
    "write.csv(data_raw, paste(raw_dir, \"\\\\data_\", last(last(strsplit(raw_dir, \"\\\\\\\\|[^[:print:]]\"))), \".csv\", sep=\"\"), row.names = FALSE)"
   ]
  }
 ],
 "metadata": {
  "kernelspec": {
   "display_name": "R",
   "language": "R",
   "name": "ir"
  },
  "language_info": {
   "codemirror_mode": "r",
   "file_extension": ".r",
   "mimetype": "text/x-r-source",
   "name": "R",
   "pygments_lexer": "r",
   "version": "4.1.0"
  }
 },
 "nbformat": 4,
 "nbformat_minor": 4
}
