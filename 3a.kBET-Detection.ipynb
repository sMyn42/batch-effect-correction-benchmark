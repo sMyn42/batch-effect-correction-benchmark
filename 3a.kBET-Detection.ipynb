{
 "cells": [
  {
   "cell_type": "markdown",
   "metadata": {},
   "source": [
    "# Get Libraries"
   ]
  },
  {
   "cell_type": "code",
   "execution_count": 1,
   "metadata": {},
   "outputs": [
    {
     "name": "stderr",
     "output_type": "stream",
     "text": [
      "\n",
      "Attaching package: 'dplyr'\n",
      "\n",
      "\n",
      "The following objects are masked from 'package:stats':\n",
      "\n",
      "    filter, lag\n",
      "\n",
      "\n",
      "The following objects are masked from 'package:base':\n",
      "\n",
      "    intersect, setdiff, setequal, union\n",
      "\n",
      "\n"
     ]
    }
   ],
   "source": [
    "library(dplyr)\n",
    "library(tidyr)"
   ]
  },
  {
   "cell_type": "markdown",
   "metadata": {},
   "source": [
    "# Get data from corrected and uncorrected files\n",
    "### .\\\\output\\\\data\\\\*"
   ]
  },
  {
   "cell_type": "code",
   "execution_count": 2,
   "metadata": {},
   "outputs": [],
   "source": [
    "data_pcs <- read.csv(\".\\\\output\\\\data\\\\uncorrected\\\\data_uncorrected.csv\", sep=\",\")\n",
    "data_harmony <- read.csv(\".\\\\output\\\\data\\\\harmony\\\\data_harmony.csv\", sep=\",\")\n",
    "batch <- data_pcs$batch\n",
    "data_pcs <- select(data_pcs, -batch)\n",
    "data_harmony <- select(data_harmony, -batch)"
   ]
  },
  {
   "cell_type": "markdown",
   "metadata": {},
   "source": [
    "# Run kBET and print outputs"
   ]
  },
  {
   "cell_type": "code",
   "execution_count": 3,
   "metadata": {},
   "outputs": [
    {
     "name": "stderr",
     "output_type": "stream",
     "text": [
      "Warning message in if (class(knn) == \"list\") {:\n",
      "\"the condition has length > 1 and only the first element will be used\"\n",
      "Warning message in if (class(knn) == \"list\") {:\n",
      "\"the condition has length > 1 and only the first element will be used\"\n",
      "Warning message in if (class(knn) == \"list\") {:\n",
      "\"the condition has length > 1 and only the first element will be used\"\n",
      "Warning message in if (class(knn) == \"list\") {:\n",
      "\"the condition has length > 1 and only the first element will be used\"\n",
      "Warning message in if (class(knn) == \"list\") {:\n",
      "\"the condition has length > 1 and only the first element will be used\"\n",
      "Warning message in if (class(knn) == \"list\") {:\n",
      "\"the condition has length > 1 and only the first element will be used\"\n",
      "Warning message in if (class(knn) == \"list\") {:\n",
      "\"the condition has length > 1 and only the first element will be used\"\n",
      "Warning message in if (class(knn) == \"list\") {:\n",
      "\"the condition has length > 1 and only the first element will be used\"\n",
      "Warning message in if (class(knn) == \"list\") {:\n",
      "\"the condition has length > 1 and only the first element will be used\"\n",
      "Warning message in if (class(knn) == \"list\") {:\n",
      "\"the condition has length > 1 and only the first element will be used\"\n",
      "Warning message in if (class(knn) == \"list\") {:\n",
      "\"the condition has length > 1 and only the first element will be used\"\n"
     ]
    },
    {
     "data": {
      "image/png": "[encoded data removed]",
      "text/plain": [
       "plot without title"
      ]
     },
     "metadata": {
      "image/png": {
       "height": 420,
       "width": 420
      }
     },
     "output_type": "display_data"
    },
    {
     "data": {
      "image/png": "[encoded data removed]",
      "text/plain": [
       "plot without title"
      ]
     },
     "metadata": {
      "image/png": {
       "height": 420,
       "width": 420
      }
     },
     "output_type": "display_data"
    }
   ],
   "source": [
    "kBET.uncorrected <- kBET::kBET(data_pcs, batch, do.pca=FALSE)$summary\n",
    "kBET.harmony <- kBET::kBET(data_harmony, batch, do.pca=FALSE)$summary"
   ]
  },
  {
   "cell_type": "code",
   "execution_count": 4,
   "metadata": {},
   "outputs": [
    {
     "data": {
      "text/html": [
       "0"
      ],
      "text/latex": [
       "0"
      ],
      "text/markdown": [
       "0"
      ],
      "text/plain": [
       "[1] 0"
      ]
     },
     "metadata": {},
     "output_type": "display_data"
    },
    {
     "data": {
      "text/html": [
       "0"
      ],
      "text/latex": [
       "0"
      ],
      "text/markdown": [
       "0"
      ],
      "text/plain": [
       "[1] 0"
      ]
     },
     "metadata": {},
     "output_type": "display_data"
    },
    {
     "data": {
      "text/html": [
       "0"
      ],
      "text/latex": [
       "0"
      ],
      "text/markdown": [
       "0"
      ],
      "text/plain": [
       "[1] 0"
      ]
     },
     "metadata": {},
     "output_type": "display_data"
    },
    {
     "data": {
      "text/html": [
       "0"
      ],
      "text/latex": [
       "0"
      ],
      "text/markdown": [
       "0"
      ],
      "text/plain": [
       "[1] 0"
      ]
     },
     "metadata": {},
     "output_type": "display_data"
    }
   ],
   "source": [
    "uncorrected_dir <- \".\\\\output\\\\kBET\\\\uncorrected\"\n",
    "harmony_dir <- \".\\\\output\\\\kBET\\\\harmony\"\n",
    "liger_dir <- \".\\\\output\\\\kBET\\\\liger\"\n",
    "combat_dir <- \".\\\\output\\\\kBET\\\\combat\"\n",
    "\n",
    "system(paste(\"mkdir -p \", uncorrected_dir, sep=\"\"))\n",
    "system(paste(\"mkdir -p \", harmony_dir, sep=\"\"))\n",
    "system(paste(\"mkdir -p \", liger_dir, sep=\"\"))\n",
    "system(paste(\"mkdir -p \", combat_dir, sep=\"\"))\n",
    "\n",
    "write.csv(kBET.uncorrected, paste(uncorrected_dir, \"\\\\kBET_\", last(last(strsplit(uncorrected_dir, \"\\\\\\\\|[^[:print:]]\"))), \".csv\", sep=\"\"), row.names = TRUE)\n",
    "write.csv(kBET.harmony, paste(harmony_dir, \"\\\\kBET_\", last(last(strsplit(harmony_dir, \"\\\\\\\\|[^[:print:]]\"))), \".csv\", sep=\"\"), row.names = TRUE)"
   ]
  }
 ],
 "metadata": {
  "kernelspec": {
   "display_name": "R",
   "language": "R",
   "name": "ir"
  },
  "language_info": {
   "codemirror_mode": "r",
   "file_extension": ".r",
   "mimetype": "text/x-r-source",
   "name": "R",
   "pygments_lexer": "r",
   "version": "4.1.0"
  }
 },
 "nbformat": 4,
 "nbformat_minor": 4
}
