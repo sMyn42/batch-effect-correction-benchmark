{
 "cells": [
  {
   "cell_type": "markdown",
   "metadata": {},
   "source": [
    "# Get Libraries"
   ]
  },
  {
   "cell_type": "code",
   "execution_count": 1,
   "metadata": {},
   "outputs": [
    {
     "name": "stderr",
     "output_type": "stream",
     "text": [
      "\n",
      "Attaching package: 'dplyr'\n",
      "\n",
      "\n",
      "The following objects are masked from 'package:stats':\n",
      "\n",
      "    filter, lag\n",
      "\n",
      "\n",
      "The following objects are masked from 'package:base':\n",
      "\n",
      "    intersect, setdiff, setequal, union\n",
      "\n",
      "\n"
     ]
    }
   ],
   "source": [
    "library(dplyr)\n",
    "library(tidyr)"
   ]
  },
  {
   "cell_type": "markdown",
   "metadata": {},
   "source": [
    "# Load Data from PCs \n",
    "### stored in output/data directory"
   ]
  },
  {
   "cell_type": "code",
   "execution_count": 2,
   "metadata": {},
   "outputs": [],
   "source": [
    "data_pcs <- read.csv(\".\\\\output\\\\data\\\\uncorrected\\\\data_uncorrected.csv\", sep=\",\")\n",
    "batch <- data_pcs$batch\n",
    "data_pcs <- select(data_pcs, -batch)"
   ]
  },
  {
   "cell_type": "markdown",
   "metadata": {},
   "source": [
    "# Perform Harmony"
   ]
  },
  {
   "cell_type": "code",
   "execution_count": 3,
   "metadata": {},
   "outputs": [
    {
     "name": "stderr",
     "output_type": "stream",
     "text": [
      "Harmony 1/10\n",
      "\n",
      "Harmony 2/10\n",
      "\n",
      "Harmony 3/10\n",
      "\n",
      "Harmony 4/10\n",
      "\n",
      "Harmony 5/10\n",
      "\n",
      "Harmony 6/10\n",
      "\n",
      "Harmony 7/10\n",
      "\n",
      "Harmony 8/10\n",
      "\n",
      "Harmony 9/10\n",
      "\n",
      "Harmony 10/10\n",
      "\n",
      "Harmony converged after 10 iterations\n",
      "\n"
     ]
    }
   ],
   "source": [
    "data_harmony <- harmony::HarmonyMatrix(data_pcs, meta_data=batch, do_pca=FALSE)"
   ]
  },
  {
   "cell_type": "markdown",
   "metadata": {},
   "source": [
    "# Output Harmony Adjusted and Uncorrected Files"
   ]
  },
  {
   "cell_type": "code",
   "execution_count": 4,
   "metadata": {},
   "outputs": [
    {
     "data": {
      "text/html": [
       "0"
      ],
      "text/latex": [
       "0"
      ],
      "text/markdown": [
       "0"
      ],
      "text/plain": [
       "[1] 0"
      ]
     },
     "metadata": {},
     "output_type": "display_data"
    },
    {
     "data": {
      "text/html": [
       "0"
      ],
      "text/latex": [
       "0"
      ],
      "text/markdown": [
       "0"
      ],
      "text/plain": [
       "[1] 0"
      ]
     },
     "metadata": {},
     "output_type": "display_data"
    },
    {
     "data": {
      "text/html": [
       "0"
      ],
      "text/latex": [
       "0"
      ],
      "text/markdown": [
       "0"
      ],
      "text/plain": [
       "[1] 0"
      ]
     },
     "metadata": {},
     "output_type": "display_data"
    }
   ],
   "source": [
    "harmony_dir <- \".\\\\output\\\\data\\\\harmony\"\n",
    "liger_dir <- \".\\\\output\\\\data\\\\liger\"\n",
    "combat_dir <- \".\\\\output\\\\data\\\\combat\"\n",
    "\n",
    "system(paste(\"mkdir -p \", harmony_dir, sep=\"\"))\n",
    "system(paste(\"mkdir -p \", liger_dir, sep=\"\"))\n",
    "system(paste(\"mkdir -p \", combat_dir, sep=\"\"))\n",
    "\n",
    "data_harmony <- cbind(data_harmony, batch)\n",
    "write.csv(data_harmony, paste(harmony_dir, \"\\\\data_\", last(last(strsplit(harmony_dir, \"\\\\\\\\|[^[:print:]]\"))), \".csv\", sep=\"\"), row.names = FALSE)"
   ]
  }
 ],
 "metadata": {
  "kernelspec": {
   "display_name": "R",
   "language": "R",
   "name": "ir"
  },
  "language_info": {
   "codemirror_mode": "r",
   "file_extension": ".r",
   "mimetype": "text/x-r-source",
   "name": "R",
   "pygments_lexer": "r",
   "version": "4.1.0"
  }
 },
 "nbformat": 4,
 "nbformat_minor": 4
}
