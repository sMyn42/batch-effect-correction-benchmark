{
 "cells": [
  {
   "cell_type": "markdown",
   "metadata": {},
   "source": [
    "# Get Libraries"
   ]
  },
  {
   "cell_type": "code",
   "execution_count": 7,
   "metadata": {},
   "outputs": [
    {
     "name": "stderr",
     "output_type": "stream",
     "text": [
      "\n",
      "Attaching package: 'dplyr'\n",
      "\n",
      "\n",
      "The following objects are masked from 'package:stats':\n",
      "\n",
      "    filter, lag\n",
      "\n",
      "\n",
      "The following objects are masked from 'package:base':\n",
      "\n",
      "    intersect, setdiff, setequal, union\n",
      "\n",
      "\n"
     ]
    }
   ],
   "source": [
    "library(dplyr)\n",
    "library(tidyr)"
   ]
  },
  {
   "cell_type": "markdown",
   "metadata": {},
   "source": [
    "# Get data from corrected and uncorrected files\n",
    "### .\\\\output\\\\data\\\\*"
   ]
  },
  {
   "cell_type": "code",
   "execution_count": 8,
   "metadata": {},
   "outputs": [],
   "source": [
    "data_pcs <- read.csv(\".\\\\output\\\\data\\\\uncorrected\\\\data_uncorrected.csv\", sep=\",\")\n",
    "data_harmony <- read.csv(\".\\\\output\\\\data\\\\harmony\\\\data_harmony.csv\", sep=\",\")\n",
    "batch <- data_pcs$batch\n",
    "data_pcs <- select(data_pcs, -batch)\n",
    "data_harmony <- select(data_harmony, -batch)"
   ]
  },
  {
   "cell_type": "markdown",
   "metadata": {},
   "source": [
    "# Calculate LISI and print outputs"
   ]
  },
  {
   "cell_type": "code",
   "execution_count": 9,
   "metadata": {},
   "outputs": [],
   "source": [
    "uncorrected_lisi <- lisi::compute_lisi(data_pcs, as.data.frame(batch), \"batch\")#This part is not modular!\n",
    "harmony_lisi <- lisi::compute_lisi(data_harmony, as.data.frame(batch), \"batch\")#This part is not modular!\n",
    "\n",
    "LISI.uncorrected = c(summary(uncorrected_lisi$batch))\n",
    "LISI.uncorrected = as.data.frame(LISI.uncorrected)\n",
    "\n",
    "LISI.harmony = c(summary(uncorrected_lisi$batch))\n",
    "LISI.harmony = as.data.frame(LISI.harmony)"
   ]
  },
  {
   "cell_type": "code",
   "execution_count": 10,
   "metadata": {},
   "outputs": [
    {
     "data": {
      "text/html": [
       "0"
      ],
      "text/latex": [
       "0"
      ],
      "text/markdown": [
       "0"
      ],
      "text/plain": [
       "[1] 0"
      ]
     },
     "metadata": {},
     "output_type": "display_data"
    },
    {
     "data": {
      "text/html": [
       "0"
      ],
      "text/latex": [
       "0"
      ],
      "text/markdown": [
       "0"
      ],
      "text/plain": [
       "[1] 0"
      ]
     },
     "metadata": {},
     "output_type": "display_data"
    },
    {
     "data": {
      "text/html": [
       "0"
      ],
      "text/latex": [
       "0"
      ],
      "text/markdown": [
       "0"
      ],
      "text/plain": [
       "[1] 0"
      ]
     },
     "metadata": {},
     "output_type": "display_data"
    },
    {
     "data": {
      "text/html": [
       "0"
      ],
      "text/latex": [
       "0"
      ],
      "text/markdown": [
       "0"
      ],
      "text/plain": [
       "[1] 0"
      ]
     },
     "metadata": {},
     "output_type": "display_data"
    }
   ],
   "source": [
    "uncorrected_dir <- \".\\\\output\\\\lisi\\\\uncorrected\"\n",
    "harmony_dir <- \".\\\\output\\\\lisi\\\\harmony\"\n",
    "liger_dir <- \".\\\\output\\\\lisi\\\\liger\"\n",
    "combat_dir <- \".\\\\output\\\\lisi\\\\combat\"\n",
    "\n",
    "system(paste(\"mkdir -p \", uncorrected_dir, sep=\"\"))\n",
    "system(paste(\"mkdir -p \", harmony_dir, sep=\"\"))\n",
    "system(paste(\"mkdir -p \", liger_dir, sep=\"\"))\n",
    "system(paste(\"mkdir -p \", combat_dir, sep=\"\"))\n",
    "\n",
    "write.csv(LISI.uncorrected, paste(uncorrected_dir, \"\\\\LISI_\", last(last(strsplit(uncorrected_dir, \"\\\\\\\\|[^[:print:]]\"))), \".csv\", sep=\"\"), row.names = TRUE)\n",
    "write.csv(LISI.harmony, paste(harmony_dir, \"\\\\LISI_\", last(last(strsplit(harmony_dir, \"\\\\\\\\|[^[:print:]]\"))), \".csv\", sep=\"\"), row.names = TRUE)"
   ]
  }
 ],
 "metadata": {
  "kernelspec": {
   "display_name": "R",
   "language": "R",
   "name": "ir"
  },
  "language_info": {
   "codemirror_mode": "r",
   "file_extension": ".r",
   "mimetype": "text/x-r-source",
   "name": "R",
   "pygments_lexer": "r",
   "version": "4.1.0"
  }
 },
 "nbformat": 4,
 "nbformat_minor": 4
}
